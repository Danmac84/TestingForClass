{
  "nbformat": 4,
  "nbformat_minor": 0,
  "metadata": {
    "colab": {
      "name": "Lab1.ipynb",
      "provenance": [],
      "authorship_tag": "ABX9TyM9yNQ7w/Lh5wAEZn+Qr95C",
      "include_colab_link": true
    },
    "kernelspec": {
      "name": "python3",
      "display_name": "Python 3"
    }
  },
  "cells": [
    {
      "cell_type": "markdown",
      "metadata": {
        "id": "view-in-github",
        "colab_type": "text"
      },
      "source": [
        "<a href=\"https://colab.research.google.com/github/Danmac84/TestingForClass/blob/master/Lab1.ipynb\" target=\"_parent\"><img src=\"https://colab.research.google.com/assets/colab-badge.svg\" alt=\"Open In Colab\"/></a>"
      ]
    },
    {
      "cell_type": "markdown",
      "metadata": {
        "id": "yAlI-jNQft8Q",
        "colab_type": "text"
      },
      "source": [
        "##Do you like using Jupyter Notebooks?"
      ]
    },
    {
      "cell_type": "markdown",
      "metadata": {
        "id": "j5w8sEb2zSvJ",
        "colab_type": "text"
      },
      "source": [
        "Yes, I like using Jupyter Notebooks. It seems very easy to navigate, and it will probably be a useful tool."
      ]
    },
    {
      "cell_type": "markdown",
      "metadata": {
        "id": "ZAx3IiMmf6mB",
        "colab_type": "text"
      },
      "source": [
        "##What do you want to learn more about in Jupyter Notebooks?"
      ]
    },
    {
      "cell_type": "markdown",
      "metadata": {
        "id": "bHQFsz0-zePn",
        "colab_type": "text"
      },
      "source": [
        "I want to learn more about what I can do in Jupyter Notebooks, as I am not very familiar with it. Also, it seems like I can code in it too, so I'd like to learn more about that."
      ]
    },
    {
      "cell_type": "markdown",
      "metadata": {
        "id": "HmMD6y4EgsD8",
        "colab_type": "text"
      },
      "source": [
        "![A box of Cheez-Its](https://raw.githubusercontent.com/Danmac84/TryAgain/master/IMG_1928.jpeg)"
      ]
    }
  ]
}