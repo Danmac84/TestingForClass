{
  "nbformat": 4,
  "nbformat_minor": 0,
  "metadata": {
    "colab": {
      "name": "Untitled",
      "provenance": [],
      "authorship_tag": "ABX9TyNXe6jhWQgVKfqZ3HNyYBVB",
      "include_colab_link": true
    },
    "kernelspec": {
      "name": "python3",
      "display_name": "Python 3"
    }
  },
  "cells": [
    {
      "cell_type": "markdown",
      "metadata": {
        "id": "view-in-github",
        "colab_type": "text"
      },
      "source": [
        "<a href=\"https://colab.research.google.com/github/Danmac84/TestingForClass/blob/master/PetShop.ipynb\" target=\"_parent\"><img src=\"https://colab.research.google.com/assets/colab-badge.svg\" alt=\"Open In Colab\"/></a>"
      ]
    },
    {
      "cell_type": "markdown",
      "metadata": {
        "id": "jGGu3SG3haRK"
      },
      "source": [
        "![Pet Shop ER Diagram](https://raw.githubusercontent.com/Danmac84/TestingForClass/master/Untitled%20Diagram.png)"
      ]
    },
    {
      "cell_type": "markdown",
      "metadata": {
        "id": "tn54gxPihoBr"
      },
      "source": [
        "Description:\n",
        "This is my ER diagram. Pets are kept in enclosures. Pets can only be in one enclosure at a time, but multiple pets can be in the same enlosure, which I limited to 10 in the case of a fishtank. Pets are adopted by customers. Only 1 customer can adopt a certain pet, but the same customer can adopt multiple pets, which I limited to 3, because it's not common for people to adopt that many at once. Pets eat food. A pet only eats one type of food, but many pets can eat the same kind of food. Food is bought by the customer. Many customers can buy the same brand, if it is in stock. Customers make transactions. Only one transation can happen at a time, but any customer can make a transaction. Customers also enroll in the loyalty program. There is one program, but any customer can enroll."
      ]
    }
  ]
}